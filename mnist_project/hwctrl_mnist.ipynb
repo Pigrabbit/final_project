{
 "cells": [
  {
   "cell_type": "markdown",
   "metadata": {},
   "source": [
    "# DSD-2019 Project (MNIST)\n",
    "---\n",
    "# Hardware control inference"
   ]
  },
  {
   "cell_type": "code",
   "execution_count": null,
   "metadata": {},
   "outputs": [],
   "source": [
    "from layers_mnist import *\n",
    "from bitop_mnist import *\n",
    "from setup_mnist import *\n",
    "from scale_uart import *\n",
    "from matplotlib import pyplot as plt\n",
    "import time\n",
    "import numpy as np\n",
    "import glob\n",
    "import platform\n",
    "import time\n",
    "\n",
    "%matplotlib inline"
   ]
  },
  {
   "cell_type": "markdown",
   "metadata": {},
   "source": [
    "### Load dataset for image generate"
   ]
  },
  {
   "cell_type": "code",
   "execution_count": null,
   "metadata": {},
   "outputs": [],
   "source": [
    "# TEST SET ORIGIN\n",
    "X_test_origin, y_test = load_mnist(\"./dataset_mnist/t10k-images-idx3-ubyte\", \"./dataset_mnist/t10k-images-idx1-ubyte\")"
   ]
  },
  {
   "cell_type": "markdown",
   "metadata": {},
   "source": [
    "### Simulation dataset for our 8-bit MAC unit"
   ]
  },
  {
   "cell_type": "code",
   "execution_count": null,
   "metadata": {},
   "outputs": [],
   "source": [
    "X_test_ = np.load(\"./mnist_dataset_quan/images_100.npy\")"
   ]
  },
  {
   "cell_type": "markdown",
   "metadata": {},
   "source": [
    "## Load network parameter\n",
    "---"
   ]
  },
  {
   "cell_type": "code",
   "execution_count": null,
   "metadata": {},
   "outputs": [],
   "source": [
    "# 8-bit quantization network param\n",
    "conv1_w_ = np.load(\"./mnist_network_quan_param/mnist_conv1_weight_quan.npy\")\n",
    "conv1_b_ = np.load(\"./mnist_network_quan_param/mnist_conv1_bias_quan.npy\")\n",
    "conv2_w_ = np.load(\"./mnist_network_quan_param/mnist_conv2_weight_quan.npy\")\n",
    "conv2_b_ = np.load(\"./mnist_network_quan_param/mnist_conv2_bias_quan.npy\")\n",
    "fc1_w_ = np.load(\"./mnist_network_quan_param/mnist_fc1_weight_quan.npy\")\n",
    "fc1_b_ = np.load(\"./mnist_network_quan_param/mnist_fc1_bias_quan.npy\")\n",
    "fc2_w_ = np.load(\"./mnist_network_quan_param/mnist_fc2_weight_quan.npy\")\n",
    "fc2_b_ = np.load(\"./mnist_network_quan_param/mnist_fc2_bias_quan.npy\")"
   ]
  },
  {
   "cell_type": "markdown",
   "metadata": {},
   "source": [
    "## Test for accuracy  \n",
    "---\n",
    "Do inference"
   ]
  },
  {
   "cell_type": "markdown",
   "metadata": {},
   "source": [
    "### Board connection"
   ]
  },
  {
   "cell_type": "code",
   "execution_count": null,
   "metadata": {},
   "outputs": [],
   "source": [
    "def port_list():\n",
    "    os_name = platform.system()\n",
    "    if \"Windows\" in os_name:\n",
    "        print(\"Current OS: Windows\")\n",
    "        ports = ['COM%s' %(i+1) for i in range(256)]\n",
    "    elif \"Linux\"in os_name:\n",
    "        print(\"Current OS: Linux\")\n",
    "        ports = glob.glob('/dev/tty[A-Za-z]*')\n",
    "    elif \"Darwin\" in os_name:\n",
    "        print(\"Current OS: Mac\")\n",
    "        ports = glob.glob('/dev/tty.*')\n",
    "    result = []\n",
    "    for p in ports:\n",
    "        try:\n",
    "            s = serial.Serial(p)\n",
    "            s.close()\n",
    "            result.append(p)\n",
    "        except (OSError, serial.SerialException):\n",
    "            pass\n",
    "    print(result)\n",
    "    return result"
   ]
  },
  {
   "cell_type": "code",
   "execution_count": null,
   "metadata": {},
   "outputs": [],
   "source": [
    "plist = port_list()"
   ]
  },
  {
   "cell_type": "code",
   "execution_count": null,
   "metadata": {},
   "outputs": [],
   "source": [
    "# Fisrt, Set the connection configuration and Port\n",
    "# PORT-name may be vary depending on your systems.\n",
    "# USE USB serial port.\n",
    "\n",
    "for pname in plist:\n",
    "    try:\n",
    "        SU = Scale_UART(str(pname))\n",
    "        print(\"%s port connected!\" %(pname))\n",
    "        break\n",
    "    except serial.SerialException:\n",
    "        print(\"%s port cannot be connected.\" %(pname))"
   ]
  },
  {
   "cell_type": "markdown",
   "metadata": {},
   "source": [
    "### Setting the VDMA"
   ]
  },
  {
   "cell_type": "code",
   "execution_count": null,
   "metadata": {},
   "outputs": [],
   "source": [
    "## DO NOT CHANGE \n",
    "## IT IS VDMA AND EACH MODULE'S BASE ADDRESS FOR CONTROL APB + AXI\n",
    "##### PARAMETER INFORMATION\n",
    "VDMA0_BASE_ADDR= 0x0c00_0000\n",
    "VDMA1_BASE_ADDR= 0x0c10_0000\n",
    "VDMA2_BASE_ADDR= 0x0c20_0000\n",
    "\n",
    "FC_BASE_ADDR   = 0x0d00_0000\n",
    "CONV_BASE_ADDR = 0x0d10_0000\n",
    "POOL_BASE_ADDR = 0x0d20_0000\n",
    "\n",
    "### FIXED FOR OUR NETWORK\n",
    "OP_SIZE                        = 4\n",
    "ADDR_SIZE                      = 28\n",
    "DATA_SIZE                      = 32"
   ]
  },
  {
   "cell_type": "markdown",
   "metadata": {},
   "source": [
    "Image address memory map  \n",
    "---\n",
    "Addresss range: 0x0000_0000 ~ 0x00FF_FFFF    \n",
    "Size: 2048KB"
   ]
  },
  {
   "cell_type": "code",
   "execution_count": null,
   "metadata": {},
   "outputs": [],
   "source": [
    "### WHOLE IMAGES ###\n",
    "start = time.time()\n",
    "SU.su_set_image({'BASE_ADDR': 0x0000_0000}, \"./mnist_dataset_quan/images_100.npy\")\n",
    "print(\"image set done\")\n",
    "print(\"\\tTotal time: {:.2f} sec\".format(time.time() - start))"
   ]
  },
  {
   "cell_type": "code",
   "execution_count": null,
   "metadata": {},
   "outputs": [],
   "source": [
    "### ONE IMAGE ###\n",
    "# start = time.time()\n",
    "# SU.su_set_image_one({'BASE_ADDR': 0x0000_0000}, \"./mnist_network_quan_param/test_set_quan_small.npy\")\n",
    "# print(\"image set done\")\n",
    "# print(\"\\tTotal time: {:.2f} sec\".format(time.time() - start))"
   ]
  },
  {
   "cell_type": "markdown",
   "metadata": {},
   "source": [
    "Conv1 memory map\n",
    "---\n",
    "Convolution 1  \n",
    "Weight   \n",
    "&nbsp;&nbsp;&nbsp;Address range: 0x0100_0000 ~ 0x010F_FFFF   \n",
    "&nbsp;&nbsp;&nbsp;Size: 1024KB   \n",
    "bias   \n",
    "&nbsp;&nbsp;&nbsp;Address range: 0x0110_0000 ~ 0x011F_FFFF   \n",
    "&nbsp;&nbsp;&nbsp;Size: 1024KB   \n",
    "output   \n",
    "&nbsp;&nbsp;&nbsp;Addresss range: 0x0600_0000 ~ 0x060F_FFFF       \n",
    "&nbsp;&nbsp;&nbsp;Size: 1024KB   "
   ]
  },
  {
   "cell_type": "code",
   "execution_count": null,
   "metadata": {},
   "outputs": [],
   "source": [
    "print(\"conv1 parameter load\")\n",
    "start = time.time()\n",
    "SU.su_set_conv_w({'BASE_ADDR': 0x0100_0000}, \"./mnist_network_quan_param/mnist_conv1_weight_quan.npy\")\n",
    "SU.su_set_conv_b({'BASE_ADDR': 0x0110_0000}, \"./mnist_network_quan_param/mnist_conv1_bias_quan.npy\")\n",
    "print(\"conv1 set done\")\n",
    "print(\"\\tTotal time: {:.2f} sec\".format(time.time() - start))"
   ]
  },
  {
   "cell_type": "code",
   "execution_count": null,
   "metadata": {},
   "outputs": [],
   "source": [
    "print(\"conv2 parameter load\")\n",
    "start = time.time()\n",
    "SU.su_set_conv_w({'BASE_ADDR': 0x0200_0000}, \"./mnist_network_quan_param/mnist_conv2_weight_quan.npy\")\n",
    "SU.su_set_conv_b({'BASE_ADDR': 0x0210_0000}, \"./mnist_network_quan_param/mnist_conv2_bias_quan.npy\")\n",
    "print(\"conv2 set done\")\n",
    "print(\"\\tTotal time: {:.2f} sec\".format(time.time() - start))"
   ]
  },
  {
   "cell_type": "markdown",
   "metadata": {},
   "source": [
    "Pool1 memory map\n",
    "---\n",
    "Max Pool 1  \n",
    "output   \n",
    "&nbsp;&nbsp;&nbsp;Addresss range: 0x0610_0000 ~ 0x061F_FFFF      \n",
    "&nbsp;&nbsp;&nbsp;Size: 1024KB   "
   ]
  },
  {
   "cell_type": "markdown",
   "metadata": {},
   "source": [
    "Conv2 memory map\n",
    "---\n",
    "Convolution 2  \n",
    "Weight   \n",
    "&nbsp;&nbsp;&nbsp;Address range: 0x0200_0000 ~ 0x020F_FFFF  \n",
    "&nbsp;&nbsp;&nbsp;Size: 1024KB   \n",
    "bias   \n",
    "&nbsp;&nbsp;&nbsp;Address range: 0x0210_0000 ~ 0x021F_FFFF   \n",
    "&nbsp;&nbsp;&nbsp;Size: 1024KB   \n",
    "output   \n",
    "&nbsp;&nbsp;&nbsp;Addresss range: 0x0620_0000 ~ 0x062F_FFFF       \n",
    "&nbsp;&nbsp;&nbsp;Size: 1024KB   "
   ]
  },
  {
   "cell_type": "markdown",
   "metadata": {},
   "source": [
    "Pool2 memory map\n",
    "---\n",
    "Max Pool 2  \n",
    "output   \n",
    "&nbsp;&nbsp;&nbsp;Addresss range: 0x0630_0000 ~ 0x063F_FFFF      \n",
    "&nbsp;&nbsp;&nbsp;Size: 1024KB   "
   ]
  },
  {
   "cell_type": "markdown",
   "metadata": {},
   "source": [
    "FC1 memory map\n",
    "---\n",
    "Fully-Connected 1    \n",
    "Weight   \n",
    "&nbsp;&nbsp;&nbsp;Address range: 0x0300_0000 ~ 0x03DF_FFFF  \n",
    "&nbsp;&nbsp;&nbsp;Size: 14336KB   \n",
    "bias   \n",
    "&nbsp;&nbsp;&nbsp;Address range: 0x03f0_0000 ~ 0x03FF_FFFF     \n",
    "&nbsp;&nbsp;&nbsp;Size:  1024KB   \n",
    "output   \n",
    "&nbsp;&nbsp;&nbsp;Addresss range: 0x0640_0000 ~ 0x064F_FFFF       \n",
    "&nbsp;&nbsp;&nbsp;Size:  1024KB "
   ]
  },
  {
   "cell_type": "code",
   "execution_count": null,
   "metadata": {},
   "outputs": [],
   "source": [
    "print(\"fc1 parameter load\")\n",
    "start = time.time()\n",
    "SU.su_set_fc_w({'BASE_ADDR': 0x0300_0000}, \"./mnist_network_quan_param/mnist_fc1_weight_quan.npy\")\n",
    "SU.su_set_fc_b({'BASE_ADDR': 0x03F0_0000}, \"./mnist_network_quan_param/mnist_fc1_bias_quan.npy\")\n",
    "print(\"fc1 set done\")\n",
    "print(\"\\tTotal time: {:.2f} sec\".format(time.time() - start))"
   ]
  },
  {
   "cell_type": "markdown",
   "metadata": {},
   "source": [
    "FC2 memory map\n",
    "---\n",
    "Fully-Connected 2  \n",
    "Weight   \n",
    "&nbsp;&nbsp;&nbsp;Address range: 0x0400_0000 ~ 0x040F_FFFF  \n",
    "&nbsp;&nbsp;&nbsp;Size: 1024KB   \n",
    "bias   \n",
    "&nbsp;&nbsp;&nbsp;Address range: 0x0410_0000 ~ 0x041F_FFFF   \n",
    "&nbsp;&nbsp;&nbsp;Size: 1024KB   \n",
    "output   \n",
    "&nbsp;&nbsp;&nbsp;Addresss range: 0x0650_0000 ~ 0x065F_FFFF       \n",
    "&nbsp;&nbsp;&nbsp;Size: 1024KB "
   ]
  },
  {
   "cell_type": "code",
   "execution_count": null,
   "metadata": {},
   "outputs": [],
   "source": [
    "print(\"fc2 parameter load\")\n",
    "\n",
    "start = time.time()\n",
    "SU.su_set_fc_w({'BASE_ADDR': 0x0400_0000}, \"./mnist_network_quan_param/mnist_fc2_weight_quan.npy\")\n",
    "SU.su_set_fc_b({'BASE_ADDR': 0x0410_0000}, \"./mnist_network_quan_param/mnist_fc2_bias_quan.npy\")\n",
    "print(\"fc2 set done\")\n",
    "print(\"\\tTotal time: {:.2f} sec\".format(time.time() - start))"
   ]
  },
  {
   "cell_type": "markdown",
   "metadata": {},
   "source": [
    "### You can check the parameter by below code"
   ]
  },
  {
   "cell_type": "code",
   "execution_count": null,
   "metadata": {},
   "outputs": [],
   "source": [
    "debug_data = np.load(\"./mnist_dataset_quan/images_1000.npy\")"
   ]
  },
  {
   "cell_type": "code",
   "execution_count": null,
   "metadata": {},
   "outputs": [],
   "source": [
    "print(debug_data.shape)"
   ]
  },
  {
   "cell_type": "code",
   "execution_count": null,
   "metadata": {},
   "outputs": [],
   "source": [
    "# Print in 4 Bytes\n",
    "# One image\n",
    "debug_flat = debug_data.flatten()\n",
    "for i in range(int(1 * 1 * 28 * 28 / 4)):\n",
    "    temp = debug_flat[i*4:i*4+4]\n",
    "    print(i, \"\\t\", temp)"
   ]
  },
  {
   "cell_type": "code",
   "execution_count": null,
   "metadata": {},
   "outputs": [],
   "source": [
    "debug_flat_bin = to_8bit_fixed_binary(debug_flat)\n",
    "for i in range(int(1 * 1 * 28 * 28 / 4)):\n",
    "    temp = debug_flat_bin[i*4:i*4+4]\n",
    "    print(i, \"\\t\", temp)"
   ]
  },
  {
   "cell_type": "code",
   "execution_count": null,
   "metadata": {},
   "outputs": [],
   "source": [
    "# Check for written data in DRAM\n",
    "base_addr_debug = 0x0000_0000 # input image\n",
    "for i in range(int(1 * 1 * 28 * 28 / 4)):\n",
    "    data = SU.su_read_data(base_addr_debug + i*4)\n",
    "    print(data)"
   ]
  },
  {
   "cell_type": "markdown",
   "metadata": {},
   "source": [
    "### INFERENCE"
   ]
  },
  {
   "cell_type": "code",
   "execution_count": null,
   "metadata": {},
   "outputs": [],
   "source": [
    "###################################################################\n",
    "#        Convolution 1 + ReLU\n",
    "###################################################################\n",
    "# Convolution\n",
    "# - in:       (n, 1, 28, 28)\n",
    "# - out:     (n, 32, 28, 28)\n",
    "# - weight:    (32, 1, 3, 3)\n",
    "# - bias:               (32)\n",
    "# ReLU\n",
    "# - in:      (n. 32. 28. 28)\n",
    "# - out:     (n. 32. 28. 28)\n",
    "###################################################################\n",
    "I = {'IN_CH': 1, 'OUT_CH': 32, 'FLEN': 28}\n",
    "F = {'BASE_ADDR': 0x0000_0000, 'STRIDE_SIZE': 1*28*28, 'HSIZE': 1*28*28, 'VSIZE': 1}\n",
    "W = {'BASE_ADDR': 0x0100_0000, 'STRIDE_SIZE': 32*3*3, 'HSIZE': 32*3*3, 'VSIZE': 1}\n",
    "B = {'BASE_ADDR': 0x0110_0000, 'STRIDE_SIZE': 32, 'HSIZE': 32, 'VSIZE': 1}\n",
    "R = {'BASE_ADDR': 0x0600_0000, 'STRIDE_SIZE': 32*28*28, 'HSIZE': 32*28*28, 'VSIZE': 1}\n",
    "SU.su_conv_control(I, F, W, B, R, VDMA1_BASE_ADDR, CONV_BASE_ADDR)"
   ]
  },
  {
   "cell_type": "code",
   "execution_count": null,
   "metadata": {},
   "outputs": [],
   "source": [
    "# You can check the result of first layer by below code\n",
    "a = 0x0600_0000\n",
    "for i in range(int(32*28*28/4)):\n",
    "    temp = SU.su_read_data(a + 4*i)\n",
    "    print(i, \"\\t\", temp)"
   ]
  },
  {
   "cell_type": "code",
   "execution_count": null,
   "metadata": {},
   "outputs": [],
   "source": [
    "###################################################################\n",
    "#        Max Pool 1\n",
    "###################################################################\n",
    "# Max Pooling\n",
    "# - in:      (n. 32. 28. 28)\n",
    "# - out:     (n, 32, 14, 14)\n",
    "###################################################################\n",
    "I = {'IN_CH': 32, 'FLEN': 28}\n",
    "F = {'BASE_ADDR': 0x0600_0000, 'STRIDE_SIZE': 32*28*28, 'HSIZE': 32*28*28, 'VSIZE': 1}\n",
    "R = {'BASE_ADDR': 0x0610_0000, 'STRIDE_SIZE': 32*14*14, 'HSIZE': 32*14*14, 'VSIZE': 1}\n",
    "SU.su_pool_control(I, F, R, VDMA2_BASE_ADDR, POOL_BASE_ADDR)"
   ]
  },
  {
   "cell_type": "code",
   "execution_count": null,
   "metadata": {},
   "outputs": [],
   "source": [
    "# You can check the result of first layer by below code\n",
    "a = 0x0610_0000\n",
    "for i in range(int(32*14*14/4)):\n",
    "    temp = SU.su_read_data(a + 4*i)\n",
    "    print(i, \"\\t\", temp)"
   ]
  },
  {
   "cell_type": "code",
   "execution_count": null,
   "metadata": {},
   "outputs": [],
   "source": [
    "###################################################################\n",
    "#        Convolution 2 + ReLU\n",
    "###################################################################\n",
    "# Convolution\n",
    "# - in:       (n, 32, 14, 14)\n",
    "# - out:      (n, 32, 14, 14)\n",
    "# - weight:    (32, 32, 3, 3)\n",
    "# - bias:                (32)\n",
    "# ReLU\n",
    "# - in:       (n. 32. 14. 14)\n",
    "# - out:      (n. 32. 14. 14)\n",
    "###################################################################\n",
    "I = {'IN_CH': 32, 'OUT_CH': 32, 'FLEN': 14}\n",
    "F = {'BASE_ADDR': 0x0610_0000, 'STRIDE_SIZE': 32*14*14, 'HSIZE': 32*14*14, 'VSIZE': 1}\n",
    "W = {'BASE_ADDR': 0x0200_0000, 'STRIDE_SIZE': 32*32*3*3, 'HSIZE': 32*32*3*3, 'VSIZE': 1}\n",
    "B = {'BASE_ADDR': 0x0210_0000, 'STRIDE_SIZE': 32, 'HSIZE': 32, 'VSIZE': 1}\n",
    "R = {'BASE_ADDR': 0x0620_0000, 'STRIDE_SIZE': 32*14*14, 'HSIZE': 32*14*14, 'VSIZE': 1}\n",
    "SU.su_conv_control(I, F, W, B, R, VDMA1_BASE_ADDR, CONV_BASE_ADDR)"
   ]
  },
  {
   "cell_type": "code",
   "execution_count": null,
   "metadata": {},
   "outputs": [],
   "source": [
    "# You can check the result of first layer by below code\n",
    "a = 0x0620_0000\n",
    "for i in range(int(32*14*14/4)):\n",
    "    temp = SU.su_read_data(a + 4*i)\n",
    "    print(i, \"\\t\", temp)"
   ]
  },
  {
   "cell_type": "code",
   "execution_count": null,
   "metadata": {},
   "outputs": [],
   "source": [
    "###################################################################\n",
    "#        Max Pool 2\n",
    "###################################################################\n",
    "# Max Pooling\n",
    "# - in:      (n. 32. 14. 14)\n",
    "# - out:       (n, 32, 7, 7)\n",
    "###################################################################\n",
    "I = {'IN_CH': 32, 'FLEN': 14}\n",
    "F = {'BASE_ADDR': 0x0620_0000, 'STRIDE_SIZE': 32*14*14, 'HSIZE': 32*14*14, 'VSIZE': 1}\n",
    "R = {'BASE_ADDR': 0x0630_0000, 'STRIDE_SIZE': 32*7*7, 'HSIZE': 32*7*7, 'VSIZE': 1}\n",
    "SU.su_pool_control(I, F, R, VDMA2_BASE_ADDR, POOL_BASE_ADDR)"
   ]
  },
  {
   "cell_type": "code",
   "execution_count": null,
   "metadata": {},
   "outputs": [],
   "source": [
    "# You can check the result of first layer by below code\n",
    "a = 0x0630_0000\n",
    "for i in range(int(32*7*7/4)):\n",
    "    temp = SU.su_read_data(a + 4*i)\n",
    "    print(i, \"\\t\", temp)"
   ]
  },
  {
   "cell_type": "code",
   "execution_count": null,
   "metadata": {},
   "outputs": [],
   "source": [
    "###################################################################\n",
    "#        Fully-Connected 1 + ReLU\n",
    "###################################################################\n",
    "# Fully-Connected\n",
    "# - in:              (1568,)\n",
    "# - out:              (256,)\n",
    "# - weight:      (256, 1568)\n",
    "# - bias:             (256,)\n",
    "# ReLU\n",
    "# - in:               (256,)\n",
    "# - out:              (256,)\n",
    "###################################################################\n",
    "F = {'BASE_ADDR': 0x0630_0000, 'STRIDE_SIZE': 1568, 'HSIZE': 1568, 'VSIZE': 1}\n",
    "W = {'BASE_ADDR': 0x0300_0000, 'STRIDE_SIZE': int(1568*256/8), 'HSIZE': int(1568*256/8), 'VSIZE': 8}\n",
    "B = {'BASE_ADDR': 0x03F0_0000, 'STRIDE_SIZE': 256, 'HSIZE': 256, 'VSIZE': 1}\n",
    "R = {'BASE_ADDR': 0x0640_0000, 'STRIDE_SIZE': 256, 'HSIZE': 256, 'VSIZE': 1}\n",
    "SU.su_fc_control(F, W, B, R, VDMA0_BASE_ADDR, FC_BASE_ADDR)"
   ]
  },
  {
   "cell_type": "code",
   "execution_count": null,
   "metadata": {},
   "outputs": [],
   "source": [
    "# You can check the result of first layer by below code\n",
    "a = 0x0640_0000\n",
    "for i in range(int(256/4)):\n",
    "    temp = SU.su_read_data(a + 4*i)\n",
    "    print(i, \"\\t\", temp)"
   ]
  },
  {
   "cell_type": "code",
   "execution_count": null,
   "metadata": {},
   "outputs": [],
   "source": [
    "###################################################################\n",
    "#        Fully-Connected 2\n",
    "###################################################################\n",
    "# Fully-Connected\n",
    "# - in:              (256,)\n",
    "# - out:              (10,)\n",
    "# - weight:      (10,  256)\n",
    "# - bias:             (10,)\n",
    "###################################################################\n",
    "F = {'BASE_ADDR': 0x0640_0000, 'STRIDE_SIZE': 256, 'HSIZE': 256, 'VSIZE': 1}\n",
    "W = {'BASE_ADDR': 0x0400_0000, 'STRIDE_SIZE': 10*256, 'HSIZE': 10*256, 'VSIZE': 1}\n",
    "B = {'BASE_ADDR': 0x0410_0000, 'STRIDE_SIZE': 10, 'HSIZE': 10, 'VSIZE': 1}\n",
    "R = {'BASE_ADDR': 0x0650_0000, 'STRIDE_SIZE': 10, 'HSIZE': 10, 'VSIZE': 1}\n",
    "SU.su_fc_control(F, W, B, R, VDMA0_BASE_ADDR, FC_BASE_ADDR)"
   ]
  },
  {
   "cell_type": "code",
   "execution_count": null,
   "metadata": {},
   "outputs": [],
   "source": [
    "# You can check the result of first layer by below code\n",
    "a = 0x0650_0000\n",
    "for i in range(3:\n",
    "    temp = SU.su_read_data(a + 4*i)\n",
    "    print(i, \"\\t\", temp)"
   ]
  },
  {
   "cell_type": "markdown",
   "metadata": {},
   "source": [
    "### All Inference function"
   ]
  },
  {
   "cell_type": "code",
   "execution_count": null,
   "metadata": {},
   "outputs": [],
   "source": [
    "def inference(image_idx):\n",
    "    I = {'IN_CH': 1, 'OUT_CH': 32, 'FLEN': 28}\n",
    "    F = {'BASE_ADDR': 0x0000_0000+784*image_idx, 'STRIDE_SIZE': 1*28*28, 'HSIZE': 1*28*28, 'VSIZE': 1}\n",
    "    W = {'BASE_ADDR': 0x0100_0000, 'STRIDE_SIZE': 32*3*3, 'HSIZE': 32*3*3, 'VSIZE': 1}\n",
    "    B = {'BASE_ADDR': 0x0110_0000, 'STRIDE_SIZE': 32, 'HSIZE': 32, 'VSIZE': 1}\n",
    "    R = {'BASE_ADDR': 0x0600_0000, 'STRIDE_SIZE': 32*28*28, 'HSIZE': 32*28*28, 'VSIZE': 1}\n",
    "    SU.su_conv_control(I, F, W, B, R, VDMA1_BASE_ADDR, CONV_BASE_ADDR)\n",
    "    \n",
    "    I = {'IN_CH': 32, 'FLEN': 28}\n",
    "    F = {'BASE_ADDR': 0x0600_0000, 'STRIDE_SIZE': 32*28*28, 'HSIZE': 32*28*28, 'VSIZE': 1}\n",
    "    R = {'BASE_ADDR': 0x0610_0000, 'STRIDE_SIZE': 32*14*14, 'HSIZE': 32*14*14, 'VSIZE': 1}\n",
    "    SU.su_pool_control(I, F, R, VDMA2_BASE_ADDR, POOL_BASE_ADDR)\n",
    "    \n",
    "    I = {'IN_CH': 32, 'OUT_CH': 32, 'FLEN': 14}\n",
    "    F = {'BASE_ADDR': 0x0610_0000, 'STRIDE_SIZE': 32*14*14, 'HSIZE': 32*14*14, 'VSIZE': 1}\n",
    "    W = {'BASE_ADDR': 0x0200_0000, 'STRIDE_SIZE': 32*32*3*3, 'HSIZE': 32*32*3*3, 'VSIZE': 1}\n",
    "    B = {'BASE_ADDR': 0x0210_0000, 'STRIDE_SIZE': 32, 'HSIZE': 32, 'VSIZE': 1}\n",
    "    R = {'BASE_ADDR': 0x0620_0000, 'STRIDE_SIZE': 32*14*14, 'HSIZE': 32*14*14, 'VSIZE': 1}\n",
    "    SU.su_conv_control(I, F, W, B, R, VDMA1_BASE_ADDR, CONV_BASE_ADDR)\n",
    "    \n",
    "    I = {'IN_CH': 32, 'FLEN': 14}\n",
    "    F = {'BASE_ADDR': 0x0620_0000, 'STRIDE_SIZE': 32*14*14, 'HSIZE': 32*14*14, 'VSIZE': 1}\n",
    "    R = {'BASE_ADDR': 0x0630_0000, 'STRIDE_SIZE': 32*7*7, 'HSIZE': 32*7*7, 'VSIZE': 1}\n",
    "    SU.su_pool_control(I, F, R, VDMA2_BASE_ADDR, POOL_BASE_ADDR)\n",
    "    \n",
    "    F = {'BASE_ADDR': 0x0630_0000, 'STRIDE_SIZE': 1568, 'HSIZE': 1568, 'VSIZE': 1}\n",
    "    W = {'BASE_ADDR': 0x0300_0000, 'STRIDE_SIZE': int(1568*256/4), 'HSIZE': int(1568*256/4), 'VSIZE': 4}\n",
    "    B = {'BASE_ADDR': 0x03F0_0000, 'STRIDE_SIZE': 256, 'HSIZE': 256, 'VSIZE': 1}\n",
    "    R = {'BASE_ADDR': 0x0640_0000, 'STRIDE_SIZE': 256, 'HSIZE': 256, 'VSIZE': 1}\n",
    "    SU.su_fc_control(F, W, B, R, VDMA0_BASE_ADDR, FC_BASE_ADDR)\n",
    "    \n",
    "    F = {'BASE_ADDR': 0x0640_0000, 'STRIDE_SIZE': 256, 'HSIZE': 256, 'VSIZE': 1}\n",
    "    W = {'BASE_ADDR': 0x0400_0000, 'STRIDE_SIZE': 10*256, 'HSIZE': 10*256, 'VSIZE': 1}\n",
    "    B = {'BASE_ADDR': 0x0410_0000, 'STRIDE_SIZE': 10, 'HSIZE': 10, 'VSIZE': 1}\n",
    "    R = {'BASE_ADDR': 0x0650_0000, 'STRIDE_SIZE': 10, 'HSIZE': 10, 'VSIZE': 1}\n",
    "    SU.su_fc_control(F, W, B, R, VDMA0_BASE_ADDR, FC_BASE_ADDR)\n",
    "    ################################ FIXED ##############################\n",
    "    label = SU.su_read_data(FC_BASE_ADDR + 0x20)\n",
    "    label = int.from_bytes(label, 'big', signed=True)\n",
    "    return (label-1)"
   ]
  },
  {
   "cell_type": "markdown",
   "metadata": {},
   "source": [
    "### Check accuracy"
   ]
  },
  {
   "cell_type": "code",
   "execution_count": null,
   "metadata": {},
   "outputs": [],
   "source": [
    "# Fix\n",
    "label = SU.su_read_data(FC_BASE_ADDR + 0x20)\n",
    "label = int.from_bytes(label, 'big', signed=True)\n",
    "return (label - 1)"
   ]
  },
  {
   "cell_type": "code",
   "execution_count": null,
   "metadata": {},
   "outputs": [],
   "source": [
    "acc = 0\n",
    "count = 100\n",
    "for i in range(count):\n",
    "    pred = inference(i)\n",
    "    if y_test[i] == pred:\n",
    "        acc += 1\n",
    "    if i % 10 == 0:\n",
    "        gen_image(X_test_origin[i]).show()\n",
    "        print(\"Label: %d\" %(y_test[i]))\n",
    "print(\"Total accuracy: \", float(acc / count) * 100)"
   ]
  }
 ],
 "metadata": {
  "kernelspec": {
   "display_name": "Python 3",
   "language": "python",
   "name": "python3"
  },
  "language_info": {
   "codemirror_mode": {
    "name": "ipython",
    "version": 3
   },
   "file_extension": ".py",
   "mimetype": "text/x-python",
   "name": "python",
   "nbconvert_exporter": "python",
   "pygments_lexer": "ipython3",
   "version": "3.7.5"
  }
 },
 "nbformat": 4,
 "nbformat_minor": 2
}
