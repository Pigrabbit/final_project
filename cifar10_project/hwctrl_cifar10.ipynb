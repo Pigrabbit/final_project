{
 "cells": [
  {
   "cell_type": "markdown",
   "metadata": {},
   "source": [
    "# DSD-2019 Project (CIFAR-10)\n",
    "---\n",
    "# Hardware control inference"
   ]
  },
  {
   "cell_type": "code",
   "execution_count": null,
   "metadata": {},
   "outputs": [],
   "source": [
    "from layers_cifar10 import *\n",
    "from bitop_cifar10 import *\n",
    "from setup_cifar10 import *\n",
    "from scale_uart import *\n",
    "from matplotlib import pyplot as plt\n",
    "import time\n",
    "import numpy as np\n",
    "import glob\n",
    "import platform\n",
    "import time\n",
    "\n",
    "%matplotlib inline"
   ]
  },
  {
   "cell_type": "markdown",
   "metadata": {},
   "source": [
    "### Load dataset for image generate"
   ]
  },
  {
   "cell_type": "code",
   "execution_count": null,
   "metadata": {},
   "outputs": [],
   "source": [
    "label_list = [\"Airplane\", \"Automobile\", \"Bird\", \"Cat\", \"Deer\", \"Dog\", \"Frog\", \\\n",
    "              \"Horse\", \"Ship\", \"Truck\"]\n",
    "# TEST ORIGIN\n",
    "X_test_origin, _ = load_CIFAR10_test()\n",
    "# TEST SET\n",
    "X_test, y_test = load_CIFAR10_test()\n",
    "\n",
    "# Data Pre-processing\n",
    "m = [0.4935, 0.4834, 0.4472]\n",
    "std = [0.2476, 0.2626, 0.2626]\n",
    "# Only pre-process the test dataset\n",
    "X_test = np.reshape(X_test, (X_test.shape[0], 3, 32, 32))\n",
    "for i in range(3):\n",
    "    X_test[:,i,:,:] = (X_test[:,i,:,:]-m[i])/std[i]"
   ]
  },
  {
   "cell_type": "markdown",
   "metadata": {},
   "source": [
    "### Simulation dataset for our 8-bit MAC unit"
   ]
  },
  {
   "cell_type": "code",
   "execution_count": null,
   "metadata": {},
   "outputs": [],
   "source": [
    "X_test_ = np.load(\"./cifar10_dataset_quan/images_100.npy\")"
   ]
  },
  {
   "cell_type": "markdown",
   "metadata": {},
   "source": [
    "## Load network parameter\n",
    "---"
   ]
  },
  {
   "cell_type": "code",
   "execution_count": null,
   "metadata": {},
   "outputs": [],
   "source": [
    "# Load quantized network param\n",
    "conv1_w_ = np.load(\"./cifar10_network_quan_param/cifar10_conv1_weight_quan.npy\")\n",
    "conv1_b_ = np.load(\"./cifar10_network_quan_param/cifar10_conv1_bias_quan.npy\")\n",
    "conv2_w_ = np.load(\"./cifar10_network_quan_param/cifar10_conv2_weight_quan.npy\")\n",
    "conv2_b_ = np.load(\"./cifar10_network_quan_param/cifar10_conv2_bias_quan.npy\")\n",
    "conv3_w_ = np.load(\"./cifar10_network_quan_param/cifar10_conv3_weight_quan.npy\")\n",
    "conv3_b_ = np.load(\"./cifar10_network_quan_param/cifar10_conv3_bias_quan.npy\")\n",
    "conv4_w_ = np.load(\"./cifar10_network_quan_param/cifar10_conv4_weight_quan.npy\")\n",
    "conv4_b_ = np.load(\"./cifar10_network_quan_param/cifar10_conv4_bias_quan.npy\")\n",
    "conv5_w_ = np.load(\"./cifar10_network_quan_param/cifar10_conv5_weight_quan.npy\")\n",
    "conv5_b_ = np.load(\"./cifar10_network_quan_param/cifar10_conv5_bias_quan.npy\")\n",
    "conv6_w_ = np.load(\"./cifar10_network_quan_param/cifar10_conv6_weight_quan.npy\")\n",
    "conv6_b_ = np.load(\"./cifar10_network_quan_param/cifar10_conv6_bias_quan.npy\")\n",
    "fc1_w_ = np.load(\"./cifar10_network_quan_param/cifar10_fc1_weight_quan.npy\")\n",
    "fc1_b_ = np.load(\"./cifar10_network_quan_param/cifar10_fc1_bias_quan.npy\")\n",
    "fc2_w_ = np.load(\"./cifar10_network_quan_param/cifar10_fc2_weight_quan.npy\")\n",
    "fc2_b_ = np.load(\"./cifar10_network_quan_param/cifar10_fc2_bias_quan.npy\")\n",
    "fc3_w_ = np.load(\"./cifar10_network_quan_param/cifar10_fc3_weight_quan.npy\")\n",
    "fc3_b_ = np.load(\"./cifar10_network_quan_param/cifar10_fc3_bias_quan.npy\")"
   ]
  },
  {
   "cell_type": "markdown",
   "metadata": {},
   "source": [
    "## Test for accuracy  \n",
    "---\n",
    "Do inference"
   ]
  },
  {
   "cell_type": "markdown",
   "metadata": {},
   "source": [
    "### Board connection"
   ]
  },
  {
   "cell_type": "code",
   "execution_count": null,
   "metadata": {},
   "outputs": [],
   "source": [
    "def port_list():\n",
    "    os_name = platform.system()\n",
    "    if \"Windows\" in os_name:\n",
    "        print(\"Current OS: Windows\")\n",
    "        ports = ['COM%s' %(i+1) for i in range(256)]\n",
    "    elif \"Linux\"in os_name:\n",
    "        print(\"Current OS: Linux\")\n",
    "        ports = glob.glob('/dev/tty[A-Za-z]*')\n",
    "    elif \"Darwin\" in os_name:\n",
    "        print(\"Current OS: Mac\")\n",
    "        ports = glob.glob('/dev/tty.*')\n",
    "    result = []\n",
    "    for p in ports:\n",
    "        try:\n",
    "            s = serial.Serial(p)\n",
    "            s.close()\n",
    "            result.append(p)\n",
    "        except (OSError, serial.SerialException):\n",
    "            pass\n",
    "    print(result)\n",
    "    return result"
   ]
  },
  {
   "cell_type": "code",
   "execution_count": null,
   "metadata": {},
   "outputs": [],
   "source": [
    "plist = port_list()"
   ]
  },
  {
   "cell_type": "code",
   "execution_count": null,
   "metadata": {},
   "outputs": [],
   "source": [
    "# Fisrt, Set the connection configuration and Port\n",
    "# PORT-name may be vary depending on your systems.\n",
    "# USE USB serial port.\n",
    "\n",
    "for pname in plist:\n",
    "    try:\n",
    "        SU = Scale_UART(str(pname))\n",
    "        print(\"%s port connected!\" %(pname))\n",
    "        break\n",
    "    except serial.SerialException:\n",
    "        print(\"%s port cannot be connected.\" %(pname))"
   ]
  },
  {
   "cell_type": "markdown",
   "metadata": {},
   "source": [
    "### Setting the VDMA"
   ]
  },
  {
   "cell_type": "code",
   "execution_count": null,
   "metadata": {},
   "outputs": [],
   "source": [
    "## DO NOT CHANGE \n",
    "## IT IS VDMA AND EACH MODULE'S BASE ADDRESS FOR CONTROL APB + AXI\n",
    "##### PARAMETER INFORMATION\n",
    "VDMA0_BASE_ADDR= 0x0c00_0000\n",
    "VDMA1_BASE_ADDR= 0x0c10_0000\n",
    "VDMA2_BASE_ADDR= 0x0c20_0000\n",
    "\n",
    "FC_BASE_ADDR   = 0x0d00_0000\n",
    "CONV_BASE_ADDR = 0x0d10_0000\n",
    "POOL_BASE_ADDR = 0x0d20_0000\n",
    "\n",
    "### FIXED FOR OUR NETWORK\n",
    "OP_SIZE                        = 4\n",
    "ADDR_SIZE                      = 28\n",
    "DATA_SIZE                      = 32"
   ]
  },
  {
   "cell_type": "markdown",
   "metadata": {},
   "source": [
    "Image address memory map  \n",
    "---\n",
    "Addresss range: 0x0000_0000 ~ 0x01FF_FFFF    \n",
    "Size: 32768 KB"
   ]
  },
  {
   "cell_type": "code",
   "execution_count": null,
   "metadata": {},
   "outputs": [],
   "source": [
    "start = time.time()\n",
    "SU.su_set_image({'BASE_ADDR': 0x0000_0000}, \"./cifar10_dataset_quan/images_100.npy\")\n",
    "print(\"image set done\")\n",
    "print(\"\\tTotal time: {:.2f} sec\".format(time.time() - start))"
   ]
  },
  {
   "cell_type": "markdown",
   "metadata": {},
   "source": [
    "Conv1 memory map\n",
    "---\n",
    "Convolution 1  \n",
    "Weight   \n",
    "&nbsp;&nbsp;&nbsp;Address range: 0x0200_0000 ~ 0x020F_FFFF   \n",
    "&nbsp;&nbsp;&nbsp;Size: 1024KB   \n",
    "bias   \n",
    "&nbsp;&nbsp;&nbsp;Address range: 0x0210_0000 ~ 0x021F_FFFF   \n",
    "&nbsp;&nbsp;&nbsp;Size: 1024KB   \n",
    "output   \n",
    "&nbsp;&nbsp;&nbsp;Addresss range: 0x0600_0000 ~ 0x060F_FFFF       \n",
    "&nbsp;&nbsp;&nbsp;Size: 1024KB   "
   ]
  },
  {
   "cell_type": "code",
   "execution_count": null,
   "metadata": {},
   "outputs": [],
   "source": [
    "print(\"conv1 parameter load\")\n",
    "start = time.time()\n",
    "SU.su_set_conv_w({'BASE_ADDR': 0x0200_0000}, \"./cifar10_network_quan_param/cifar10_conv1_weight_quan.npy\")\n",
    "SU.su_set_conv_b({'BASE_ADDR': 0x0210_0000}, \"./cifar10_network_quan_param/cifar10_conv1_bias_quan.npy\")\n",
    "print(\"conv1 set done\")\n",
    "print(\"\\tTotal time: {:.2f} sec\".format(time.time() - start))"
   ]
  },
  {
   "cell_type": "markdown",
   "metadata": {},
   "source": [
    "Pool1 memory map\n",
    "---\n",
    "Max Pool 1  \n",
    "output   \n",
    "&nbsp;&nbsp;&nbsp;Addresss range: 0x0610_0000 ~ 0x061F_FFFF      \n",
    "&nbsp;&nbsp;&nbsp;Size: 1024KB   "
   ]
  },
  {
   "cell_type": "markdown",
   "metadata": {},
   "source": [
    "Conv2 memory map\n",
    "---\n",
    "Convolution 2  \n",
    "Weight   \n",
    "&nbsp;&nbsp;&nbsp;Address range: 0x0220_0000 ~ 0x026F_FFFF  \n",
    "&nbsp;&nbsp;&nbsp;Size: 5120KB   \n",
    "bias   \n",
    "&nbsp;&nbsp;&nbsp;Address range: 0x0270_0000 ~ 0x027F_FFFF   \n",
    "&nbsp;&nbsp;&nbsp;Size: 1024KB   \n",
    "output   \n",
    "&nbsp;&nbsp;&nbsp;Addresss range: 0x0620_0000 ~ 0x062F_FFFF       \n",
    "&nbsp;&nbsp;&nbsp;Size: 1024KB   "
   ]
  },
  {
   "cell_type": "code",
   "execution_count": null,
   "metadata": {},
   "outputs": [],
   "source": [
    "print(\"conv2 parameter load\")\n",
    "start = time.time()\n",
    "SU.su_set_conv_w({'BASE_ADDR': 0x0220_0000}, \"./cifar10_network_quan_param/cifar10_conv2_weight_quan.npy\")\n",
    "SU.su_set_conv_b({'BASE_ADDR': 0x0270_0000}, \"./cifar10_network_quan_param/cifar10_conv2_bias_quan.npy\")\n",
    "print(\"conv2 set done\")\n",
    "print(\"\\tTotal time: {:.2f} sec\".format(time.time() - start))"
   ]
  },
  {
   "cell_type": "markdown",
   "metadata": {},
   "source": [
    "Pool2 memory map\n",
    "---\n",
    "Max Pool 2   \n",
    "output   \n",
    "&nbsp;&nbsp;&nbsp;Addresss range: 0x0630_0000 ~ 0x063F_FFFF      \n",
    "&nbsp;&nbsp;&nbsp;Size: 1024KB "
   ]
  },
  {
   "cell_type": "markdown",
   "metadata": {},
   "source": [
    "Conv3 memory map\n",
    "---\n",
    "Convolution 3  \n",
    "Weight   \n",
    "&nbsp;&nbsp;&nbsp;Address range: 0x0280_0000 ~ 0x028F_FFFF  \n",
    "&nbsp;&nbsp;&nbsp;Size: 5120KB   \n",
    "bias   \n",
    "&nbsp;&nbsp;&nbsp;Address range: 0x02C0_0000 ~ 0x02CF_FFFF   \n",
    "&nbsp;&nbsp;&nbsp;Size: 1024KB   \n",
    "output   \n",
    "&nbsp;&nbsp;&nbsp;Addresss range: 0x0640_0000 ~ 0x064F_FFFF       \n",
    "&nbsp;&nbsp;&nbsp;Size: 1024KB   "
   ]
  },
  {
   "cell_type": "code",
   "execution_count": null,
   "metadata": {},
   "outputs": [],
   "source": [
    "print(\"conv3 parameter load\")\n",
    "start = time.time()\n",
    "SU.su_set_conv_w({'BASE_ADDR': 0x0280_0000}, \"./cifar10_network_quan_param/cifar10_conv3_weight_quan.npy\")\n",
    "SU.su_set_conv_b({'BASE_ADDR': 0x02C0_0000}, \"./cifar10_network_quan_param/cifar10_conv3_bias_quan.npy\")\n",
    "print(\"conv3 set done\")\n",
    "print(\"\\tTotal time: {:.2f} sec\".format(time.time() - start))"
   ]
  },
  {
   "cell_type": "markdown",
   "metadata": {},
   "source": [
    "Conv4 memory map\n",
    "---\n",
    "Convolution 4  \n",
    "Weight   \n",
    "&nbsp;&nbsp;&nbsp;Address range: 0x0300_0000 ~ 0x038F_FFFF  \n",
    "&nbsp;&nbsp;&nbsp;Size: 9216KB   \n",
    "bias   \n",
    "&nbsp;&nbsp;&nbsp;Address range: 0x0390_0000 ~ 0x039F_FFFF   \n",
    "&nbsp;&nbsp;&nbsp;Size: 1024KB   \n",
    "output   \n",
    "&nbsp;&nbsp;&nbsp;Addresss range: 0x0650_0000 ~ 0x065F_FFFF       \n",
    "&nbsp;&nbsp;&nbsp;Size: 1024KB   "
   ]
  },
  {
   "cell_type": "code",
   "execution_count": null,
   "metadata": {},
   "outputs": [],
   "source": [
    "print(\"conv4 parameter load\")\n",
    "start = time.time()\n",
    "SU.su_set_conv_w({'BASE_ADDR': 0x0300_0000}, \"./cifar10_network_quan_param/cifar10_conv4_weight_quan.npy\")\n",
    "SU.su_set_conv_b({'BASE_ADDR': 0x0390_0000}, \"./cifar10_network_quan_param/cifar10_conv4_bias_quan.npy\")\n",
    "print(\"conv4 set done\")\n",
    "print(\"\\tTotal time: {:.2f} sec\".format(time.time() - start))"
   ]
  },
  {
   "cell_type": "markdown",
   "metadata": {},
   "source": [
    "Pool3 memory map\n",
    "---\n",
    "Max Pool 3   \n",
    "output   \n",
    "&nbsp;&nbsp;&nbsp;Addresss range: 0x0660_0000 ~ 0x066F_FFFF      \n",
    "&nbsp;&nbsp;&nbsp;Size: 1024KB   "
   ]
  },
  {
   "cell_type": "markdown",
   "metadata": {},
   "source": [
    "Conv5 memory map\n",
    "---\n",
    "Convolution 5  \n",
    "Weight   \n",
    "&nbsp;&nbsp;&nbsp;Address range: 0x03A0_0000 ~ 0x03EF_FFFF  \n",
    "&nbsp;&nbsp;&nbsp;Size: 5120KB   \n",
    "bias   \n",
    "&nbsp;&nbsp;&nbsp;Address range: 0x03F0_0000 ~ 0x03FF_FFFF   \n",
    "&nbsp;&nbsp;&nbsp;Size: 1024KB   \n",
    "output   \n",
    "&nbsp;&nbsp;&nbsp;Addresss range: 0x0670_0000 ~ 0x067F_FFFF       \n",
    "&nbsp;&nbsp;&nbsp;Size: 1024KB   "
   ]
  },
  {
   "cell_type": "code",
   "execution_count": null,
   "metadata": {},
   "outputs": [],
   "source": [
    "print(\"conv5 parameter load\")\n",
    "start = time.time()\n",
    "SU.su_set_conv_w({'BASE_ADDR': 0x03A0_0000}, \"./cifar10_network_quan_param/cifar10_conv5_weight_quan.npy\")\n",
    "SU.su_set_conv_b({'BASE_ADDR': 0x03F0_0000}, \"./cifar10_network_quan_param/cifar10_conv5_bias_quan.npy\")\n",
    "print(\"conv5 set done\")\n",
    "print(\"\\tTotal time: {:.2f} sec\".format(time.time() - start))"
   ]
  },
  {
   "cell_type": "markdown",
   "metadata": {},
   "source": [
    "Conv6 memory map\n",
    "---\n",
    "Convolution 6  \n",
    "Weight   \n",
    "&nbsp;&nbsp;&nbsp;Address range: 0x0400_0000 ~ 0x048F_FFFF  \n",
    "&nbsp;&nbsp;&nbsp;Size: 9216KB   \n",
    "bias   \n",
    "&nbsp;&nbsp;&nbsp;Address range: 0x0490_0000 ~ 0x049F_FFFF   \n",
    "&nbsp;&nbsp;&nbsp;Size: 1024KB   \n",
    "output   \n",
    "&nbsp;&nbsp;&nbsp;Addresss range: 0x0680_0000 ~ 0x068F_FFFF       \n",
    "&nbsp;&nbsp;&nbsp;Size: 1024KB   "
   ]
  },
  {
   "cell_type": "code",
   "execution_count": null,
   "metadata": {},
   "outputs": [],
   "source": [
    "print(\"conv6 parameter load\")\n",
    "start = time.time()\n",
    "SU.su_set_conv_w({'BASE_ADDR': 0x0400_0000}, \"./cifar10_network_quan_param/cifar10_conv6_weight_quan.npy\")\n",
    "SU.su_set_conv_b({'BASE_ADDR': 0x0490_0000}, \"./cifar10_network_quan_param/cifar10_conv6_bias_quan.npy\")\n",
    "print(\"conv6 set done\")\n",
    "print(\"\\tTotal time: {:.2f} sec\".format(time.time() - start))"
   ]
  },
  {
   "cell_type": "markdown",
   "metadata": {},
   "source": [
    "Pool4 memory map\n",
    "---\n",
    "Max Pool 4   \n",
    "output   \n",
    "&nbsp;&nbsp;&nbsp;Addresss range: 0x0690_0000 ~ 0x069F_FFFF      \n",
    "&nbsp;&nbsp;&nbsp;Size: 1024KB   "
   ]
  },
  {
   "cell_type": "markdown",
   "metadata": {},
   "source": [
    "FC1 memory map\n",
    "---\n",
    "Fully-Connected 1    \n",
    "Weight   \n",
    "&nbsp;&nbsp;&nbsp;Address range: 0x0500_0000 ~ 0x052F_FFFF  \n",
    "&nbsp;&nbsp;&nbsp;Size: 3072KB   \n",
    "bias   \n",
    "&nbsp;&nbsp;&nbsp;Address range: 0x0530_0000 ~ 0x053F_FFFF     \n",
    "&nbsp;&nbsp;&nbsp;Size: 1024KB   \n",
    "output   \n",
    "&nbsp;&nbsp;&nbsp;Addresss range: 0x06A0_0000 ~ 0x06AF_FFFF       \n",
    "&nbsp;&nbsp;&nbsp;Size: 1024KB "
   ]
  },
  {
   "cell_type": "code",
   "execution_count": null,
   "metadata": {},
   "outputs": [],
   "source": [
    "print(\"fc1 parameter load\")\n",
    "start = time.time()\n",
    "SU.su_set_fc_w({'BASE_ADDR': 0x0500_0000}, \"./cifar10_network_quan_param/cifar10_fc1_weight_quan.npy\")\n",
    "SU.su_set_fc_b({'BASE_ADDR': 0x0530_0000}, \"./cifar10_network_quan_param/cifar10_fc1_bias_quan.npy\")\n",
    "print(\"fc1 set done\")\n",
    "print(\"\\tTotal time: {:.2f} sec\".format(time.time() - start))"
   ]
  },
  {
   "cell_type": "markdown",
   "metadata": {},
   "source": [
    "FC2 memory map\n",
    "---\n",
    "Fully-Connected 2    \n",
    "Weight   \n",
    "&nbsp;&nbsp;&nbsp;Address range: 0x0540_0000 ~ 0x054F_FFFF  \n",
    "&nbsp;&nbsp;&nbsp;Size: 1024KB   \n",
    "bias   \n",
    "&nbsp;&nbsp;&nbsp;Address range: 0x0550_0000 ~ 0x055F_FFFF     \n",
    "&nbsp;&nbsp;&nbsp;Size: 1024KB   \n",
    "output   \n",
    "&nbsp;&nbsp;&nbsp;Addresss range: 0x06B0_0000 ~ 0x06BF_FFFF       \n",
    "&nbsp;&nbsp;&nbsp;Size: 1024KB "
   ]
  },
  {
   "cell_type": "code",
   "execution_count": null,
   "metadata": {},
   "outputs": [],
   "source": [
    "print(\"fc2 parameter load\")\n",
    "start = time.time()\n",
    "SU.su_set_fc_w({'BASE_ADDR': 0x0540_0000}, \"./cifar10_network_quan_param/cifar10_fc2_weight_quan.npy\")\n",
    "SU.su_set_fc_b({'BASE_ADDR': 0x0550_0000}, \"./cifar10_network_quan_param/cifar10_fc2_bias_quan.npy\")\n",
    "print(\"fc2 set done\")\n",
    "print(\"\\tTotal time: {:.2f} sec\".format(time.time() - start))"
   ]
  },
  {
   "cell_type": "markdown",
   "metadata": {},
   "source": [
    "FC3 memory map\n",
    "---\n",
    "Fully-Connected 3    \n",
    "Weight   \n",
    "&nbsp;&nbsp;&nbsp;Address range: 0x0560_0000 ~ 0x056F_FFFF  \n",
    "&nbsp;&nbsp;&nbsp;Size: 1024KB   \n",
    "bias   \n",
    "&nbsp;&nbsp;&nbsp;Address range: 0x0570_0000 ~ 0x057F_FFFF     \n",
    "&nbsp;&nbsp;&nbsp;Size: 1024KB   \n",
    "output   \n",
    "&nbsp;&nbsp;&nbsp;Addresss range: 0x06C0_0000 ~ 0x06CF_FFFF       \n",
    "&nbsp;&nbsp;&nbsp;Size: 1024KB "
   ]
  },
  {
   "cell_type": "code",
   "execution_count": null,
   "metadata": {},
   "outputs": [],
   "source": [
    "print(\"fc3 parameter load\")\n",
    "start = time.time()\n",
    "SU.su_set_fc_w({'BASE_ADDR': 0x0560_0000}, \"./cifar10_network_quan_param/cifar10_fc3_weight_quan.npy\")\n",
    "SU.su_set_fc_b({'BASE_ADDR': 0x0570_0000}, \"./cifar10_network_quan_param/cifar10_fc3_bias_quan.npy\")\n",
    "print(\"fc3 set done\")\n",
    "print(\"\\tTotal time: {:.2f} sec\".format(time.time() - start))"
   ]
  },
  {
   "cell_type": "markdown",
   "metadata": {},
   "source": [
    "### Parameter check (For debugging!)"
   ]
  },
  {
   "cell_type": "markdown",
   "metadata": {},
   "source": [
    "In the below code, it verifies that **the data is stored correctly in DRAM**"
   ]
  },
  {
   "cell_type": "code",
   "execution_count": null,
   "metadata": {},
   "outputs": [],
   "source": [
    "debug_data = np.load(\"./cifar10_dataset_quan/quantized_input_image_100.npy\")"
   ]
  },
  {
   "cell_type": "code",
   "execution_count": null,
   "metadata": {},
   "outputs": [],
   "source": [
    "print(debug_data.shape)"
   ]
  },
  {
   "cell_type": "markdown",
   "metadata": {},
   "source": [
    "### First, just check first image (debug_data[0])"
   ]
  },
  {
   "cell_type": "code",
   "execution_count": null,
   "metadata": {},
   "outputs": [],
   "source": [
    "# Print in 4 Bytes\n",
    "debug_flat = debug_data.flatten()\n",
    "for i in range(int(1 * 3 * 32 * 32 / 4)):\n",
    "    temp = debug_flat[i*4:i*4+4]\n",
    "    print(i, \"\\t\", temp)"
   ]
  },
  {
   "cell_type": "code",
   "execution_count": null,
   "metadata": {},
   "outputs": [],
   "source": [
    "debug_flat_bin = to_8bit_fixed_binary(debug_flat)\n",
    "for i in range(int(1 * 3 * 32 * 32 / 4)):\n",
    "    temp = debug_flat_bin[i*4:i*4+4]\n",
    "    print(i, \"\\t\", temp)"
   ]
  },
  {
   "cell_type": "code",
   "execution_count": null,
   "metadata": {},
   "outputs": [],
   "source": [
    "# Check for written data in DRAM\n",
    "base_addr_debug = 0x0000_0000 # input image\n",
    "for i in range(int(1 * 3 * 32 * 32 / 4)):\n",
    "    data = SU.su_read_data(base_addr_debug + i*4)\n",
    "    print(data)"
   ]
  },
  {
   "cell_type": "markdown",
   "metadata": {},
   "source": [
    "### INFERENCE"
   ]
  },
  {
   "cell_type": "markdown",
   "metadata": {},
   "source": [
    "### Just one image step by step"
   ]
  },
  {
   "cell_type": "code",
   "execution_count": null,
   "metadata": {},
   "outputs": [],
   "source": [
    "###################################################################\n",
    "#        Convolution 1 + ReLU\n",
    "###################################################################\n",
    "# Convolution\n",
    "# - in:       (n, 3, 32, 32)\n",
    "# - out:     (n, 32, 28, 28)\n",
    "# - weight:    (32, 3, 3, 3)\n",
    "# - bias:               (32)\n",
    "# ReLU\n",
    "# - in:      (n. 32. 32. 32)\n",
    "# - out:     (n. 32. 32. 32)\n",
    "###################################################################\n",
    "I = {'IN_CH': 3, 'OUT_CH': 32, 'FLEN': 32}\n",
    "F = {'BASE_ADDR': 0x0000_0000, 'STRIDE_SIZE': 3*32*32, 'HSIZE': 3*32*32, 'VSIZE': 1}\n",
    "W = {'BASE_ADDR': 0x0200_0000, 'STRIDE_SIZE': 3*32*9, 'HSIZE': 3*32*9, 'VSIZE': 1}\n",
    "B = {'BASE_ADDR': 0x0210_0000, 'STRIDE_SIZE': 32, 'HSIZE': 32, 'VSIZE': 1}\n",
    "R = {'BASE_ADDR': 0x0600_0000, 'STRIDE_SIZE': 32*32*32, 'HSIZE': 32*32*32, 'VSIZE': 1}\n",
    "SU.su_conv_control(I, F, W, B, R, VDMA1_BASE_ADDR, CONV_BASE_ADDR)"
   ]
  },
  {
   "cell_type": "code",
   "execution_count": null,
   "metadata": {},
   "outputs": [],
   "source": [
    "# You can check the result of first layer by below code\n",
    "a = 0x0600_0000\n",
    "for i in range(int(32*32*32/4)):\n",
    "    temp = SU.su_read_data(a + 4*i)\n",
    "    print(i, \"\\t\", temp)"
   ]
  },
  {
   "cell_type": "code",
   "execution_count": null,
   "metadata": {},
   "outputs": [],
   "source": [
    "###################################################################\n",
    "#        Max Pool 1\n",
    "###################################################################\n",
    "# Max Pooling\n",
    "# - in:      (n. 32. 32. 32)\n",
    "# - out:     (n, 32, 16, 16)\n",
    "###################################################################\n",
    "I = {'IN_CH': 32, 'FLEN': 32}\n",
    "F = {'BASE_ADDR': 0x0600_0000, 'STRIDE_SIZE': 32*32*32, 'HSIZE': 32*32*32, 'VSIZE': 1}\n",
    "R = {'BASE_ADDR': 0x0610_0000, 'STRIDE_SIZE': 32*16*16, 'HSIZE': 32*16*16, 'VSIZE': 1}\n",
    "SU.su_pool_control(I, F, R, VDMA2_BASE_ADDR, POOL_BASE_ADDR)"
   ]
  },
  {
   "cell_type": "code",
   "execution_count": null,
   "metadata": {},
   "outputs": [],
   "source": [
    "a = 0x0610_0000\n",
    "for i in range(int(32*16*16/4))\n",
    "    temp = SU.su_read_data(a + 4*i)\n",
    "    print(i, \"\\t\", temp)"
   ]
  },
  {
   "cell_type": "code",
   "execution_count": null,
   "metadata": {},
   "outputs": [],
   "source": [
    "###################################################################\n",
    "#        Convolution 2 + ReLU\n",
    "###################################################################\n",
    "# Convolution\n",
    "# - in:       (n, 32, 16, 16)\n",
    "# - out:      (n, 64, 16, 16)\n",
    "# - weight:    (64, 32, 3, 3)\n",
    "# - bias:                (64)\n",
    "# ReLU\n",
    "# - in:       (n. 64. 16. 16)\n",
    "# - out:      (n. 64. 16. 16)\n",
    "###################################################################\n",
    "I = {'IN_CH': 32, 'OUT_CH': 64, 'FLEN': 16}\n",
    "F = {'BASE_ADDR': 0x0610_0000, 'STRIDE_SIZE': 32*16*16, 'HSIZE': 32*16*16, 'VSIZE': 1}\n",
    "W = {'BASE_ADDR': 0x0220_0000, 'STRIDE_SIZE': 32*64*9, 'HSIZE': 32*64*9, 'VSIZE': 1}\n",
    "B = {'BASE_ADDR': 0x0270_0000, 'STRIDE_SIZE': 64, 'HSIZE': 64, 'VSIZE': 1}\n",
    "R = {'BASE_ADDR': 0x0620_0000, 'STRIDE_SIZE': 64*16*16, 'HSIZE': 64*16*16, 'VSIZE': 1}\n",
    "SU.su_conv_control(I, F, W, B, R, VDMA1_BASE_ADDR, CONV_BASE_ADDR)"
   ]
  },
  {
   "cell_type": "code",
   "execution_count": null,
   "metadata": {},
   "outputs": [],
   "source": [
    "a = 0x0620_0000\n",
    "for i in range(int(64*16*16/4)):\n",
    "    temp = SU.su_read_data(a + 4*i)\n",
    "    print(i, \"\\t\", temp)"
   ]
  },
  {
   "cell_type": "code",
   "execution_count": null,
   "metadata": {},
   "outputs": [],
   "source": [
    "###################################################################\n",
    "#        Max Pool 2\n",
    "###################################################################\n",
    "# Max Pooling\n",
    "# - in:      (n. 64. 16. 16)\n",
    "# - out:       (n, 64, 8, 8)\n",
    "###################################################################\n",
    "I = {'IN_CH': 64, 'FLEN': 16}\n",
    "F = {'BASE_ADDR': 0x0620_0000, 'STRIDE_SIZE': 64*16*16, 'HSIZE': 64*16*16, 'VSIZE': 1}\n",
    "R = {'BASE_ADDR': 0x0630_0000, 'STRIDE_SIZE': 64*8*8, 'HSIZE': 64*8*8, 'VSIZE': 1}\n",
    "SU.su_pool_control(I, F, R, VDMA2_BASE_ADDR, POOL_BASE_ADDR)"
   ]
  },
  {
   "cell_type": "code",
   "execution_count": null,
   "metadata": {},
   "outputs": [],
   "source": [
    "a = 0x0630_0000\n",
    "for i in range(int(64*8*8/4)):\n",
    "    temp = SU.su_read_data(a + 4*i)\n",
    "    print(i, \"\\t\", temp)"
   ]
  },
  {
   "cell_type": "code",
   "execution_count": null,
   "metadata": {},
   "outputs": [],
   "source": [
    "###################################################################\n",
    "#        Convolution 3 + ReLU\n",
    "###################################################################\n",
    "# Convolution\n",
    "# - in:        (n, 64, 8, 8)\n",
    "# - out:      (n, 128, 8, 8)\n",
    "# - weight:  (128, 64, 3, 3)\n",
    "# - bias:              (128)\n",
    "# ReLU\n",
    "# - in:       (n. 128. 8. 8)\n",
    "# - out:      (n. 128. 8. 8)\n",
    "###################################################################\n",
    "I = {'IN_CH': 64, 'OUT_CH': 128, 'FLEN': 8}\n",
    "F = {'BASE_ADDR': 0x0630_0000, 'STRIDE_SIZE': 64*8*8, 'HSIZE': 64*8*8, 'VSIZE': 1}\n",
    "W = {'BASE_ADDR': 0x0280_0000, 'STRIDE_SIZE': int(64*128*9/2), 'HSIZE': int(64*128*9/2), 'VSIZE': 2}\n",
    "B = {'BASE_ADDR': 0x02C0_0000, 'STRIDE_SIZE': 128, 'HSIZE': 128, 'VSIZE': 1}\n",
    "R = {'BASE_ADDR': 0x0640_0000, 'STRIDE_SIZE': 128*8*8, 'HSIZE': 128*8*8, 'VSIZE': 1}\n",
    "SU.su_conv_control(I, F, W, B, R, VDMA1_BASE_ADDR, CONV_BASE_ADDR)"
   ]
  },
  {
   "cell_type": "code",
   "execution_count": null,
   "metadata": {},
   "outputs": [],
   "source": [
    "a = 0x0640_0000\n",
    "for i in range(int(128*8*8/4)):\n",
    "    temp = SU.su_read_data(a + 4*i)\n",
    "    print(i, \"\\t\", temp)"
   ]
  },
  {
   "cell_type": "code",
   "execution_count": null,
   "metadata": {},
   "outputs": [],
   "source": [
    "###################################################################\n",
    "#        Convolution 4 + ReLU\n",
    "###################################################################\n",
    "# Convolution\n",
    "# - in:       (n, 128, 8, 8)\n",
    "# - out:      (n, 128, 8, 8)\n",
    "# - weight: (128, 128, 3, 3)\n",
    "# - bias:              (128)\n",
    "# ReLU\n",
    "# - in:       (n. 128. 8. 8)\n",
    "# - out:      (n. 128. 8. 8)\n",
    "###################################################################\n",
    "I = {'IN_CH': 128, 'OUT_CH': 128, 'FLEN': 8}\n",
    "F = {'BASE_ADDR': 0x0640_0000, 'STRIDE_SIZE': 128*8*8, 'HSIZE': 128*8*8, 'VSIZE': 1}\n",
    "W = {'BASE_ADDR': 0x0300_0000, 'STRIDE_SIZE': int(128*128*9/4), 'HSIZE': int(128*128*9/4), 'VSIZE': 4}\n",
    "B = {'BASE_ADDR': 0x0390_0000, 'STRIDE_SIZE': 128, 'HSIZE': 128, 'VSIZE': 1}\n",
    "R = {'BASE_ADDR': 0x0650_0000, 'STRIDE_SIZE': 128*8*8, 'HSIZE': 128*8*8, 'VSIZE': 1}\n",
    "SU.su_conv_control(I, F, W, B, R, VDMA1_BASE_ADDR, CONV_BASE_ADDR)"
   ]
  },
  {
   "cell_type": "code",
   "execution_count": null,
   "metadata": {},
   "outputs": [],
   "source": [
    "a = 0x0650_0000\n",
    "for i in range(int(128*8*8/4)):\n",
    "    temp = SU.su_read_data(a + 4*i)\n",
    "    print(i, \"\\t\", temp)"
   ]
  },
  {
   "cell_type": "code",
   "execution_count": null,
   "metadata": {},
   "outputs": [],
   "source": [
    "###################################################################\n",
    "#        Max Pool 3\n",
    "###################################################################\n",
    "# Max Pooling\n",
    "# - in:      (n. 128. 8. 8)\n",
    "# - out:     (n, 128, 4, 4)\n",
    "###################################################################\n",
    "I = {'IN_CH': 128, 'FLEN': 8}\n",
    "F = {'BASE_ADDR': 0x0650_0000, 'STRIDE_SIZE': 128*8*8, 'HSIZE': 128*8*8, 'VSIZE': 1}\n",
    "R = {'BASE_ADDR': 0x0660_0000, 'STRIDE_SIZE': 128*4*4, 'HSIZE': 128*4*4, 'VSIZE': 1}\n",
    "SU.su_pool_control(I, F, R, VDMA2_BASE_ADDR, POOL_BASE_ADDR)"
   ]
  },
  {
   "cell_type": "code",
   "execution_count": null,
   "metadata": {},
   "outputs": [],
   "source": [
    "a = 0x0660_0000\n",
    "for i in range(int(128*4*4/4)):\n",
    "    temp = SU.su_read_data(a + 4*i)\n",
    "    print(i, \"\\t\", temp)"
   ]
  },
  {
   "cell_type": "code",
   "execution_count": null,
   "metadata": {},
   "outputs": [],
   "source": [
    "###################################################################\n",
    "#        Convolution 5+ ReLU\n",
    "###################################################################\n",
    "# Convolution\n",
    "# - in:       (n, 128, 4, 4)\n",
    "# - out:      (n, 256, 4, 4)\n",
    "# - weight: (256, 128, 3, 3)\n",
    "# - bias:              (256)\n",
    "# ReLU\n",
    "# - in:       (n. 256. 4. 4)\n",
    "# - out:      (n. 256. 4. 4)\n",
    "###################################################################\n",
    "I = {'IN_CH': 128, 'OUT_CH': 256, 'FLEN': 4}\n",
    "F = {'BASE_ADDR': 0x0660_0000, 'STRIDE_SIZE': 128*4*4, 'HSIZE': 128*4*4, 'VSIZE': 1}\n",
    "W = {'BASE_ADDR': 0x03A0_0000, 'STRIDE_SIZE': int(128*256*9/8), 'HSIZE': int(128*256*9/8), 'VSIZE': 8}\n",
    "B = {'BASE_ADDR': 0x03F0_0000, 'STRIDE_SIZE': 256, 'HSIZE': 256, 'VSIZE': 1}\n",
    "R = {'BASE_ADDR': 0x0670_0000, 'STRIDE_SIZE': 256*4*4, 'HSIZE': 256*4*4, 'VSIZE': 1}\n",
    "SU.su_conv_control(I, F, W, B, R, VDMA1_BASE_ADDR, CONV_BASE_ADDR)"
   ]
  },
  {
   "cell_type": "code",
   "execution_count": null,
   "metadata": {},
   "outputs": [],
   "source": [
    "a = 0x0670_0000\n",
    "for i in range(int(256*4*4/4)):\n",
    "    temp = SU.su_read_data(a + 4*i)\n",
    "    print(i, \"\\t\", temp)"
   ]
  },
  {
   "cell_type": "code",
   "execution_count": null,
   "metadata": {},
   "outputs": [],
   "source": [
    "###################################################################\n",
    "#        Convolution 6 + ReLU\n",
    "###################################################################\n",
    "# Convolution\n",
    "# - in:        (n, 256, 4, 4)\n",
    "# - out:       (n, 256, 4, 4)\n",
    "# - weight:  (256, 256, 3, 3)\n",
    "# - bias:               (256)\n",
    "# ReLU\n",
    "# - in:        (n. 256. 4. 4)\n",
    "# - out:       (n. 256. 4. 4)\n",
    "###################################################################\n",
    "I = {'IN_CH': 256, 'OUT_CH': 256, 'FLEN': 4}\n",
    "F = {'BASE_ADDR': 0x0670_0000, 'STRIDE_SIZE': 256*4*4, 'HSIZE': 256*4*4, 'VSIZE': 1}\n",
    "W = {'BASE_ADDR': 0x0400_0000, 'STRIDE_SIZE': int(256*256*9/16), 'HSIZE': int(256*256*9/16), 'VSIZE': 16}\n",
    "B = {'BASE_ADDR': 0x0490_0000, 'STRIDE_SIZE': 256, 'HSIZE': 256, 'VSIZE': 1}\n",
    "R = {'BASE_ADDR': 0x0680_0000, 'STRIDE_SIZE': 256*4*4, 'HSIZE': 256*4*4, 'VSIZE': 1}\n",
    "SU.su_conv_control(I, F, W, B, R, VDMA1_BASE_ADDR, CONV_BASE_ADDR)"
   ]
  },
  {
   "cell_type": "code",
   "execution_count": null,
   "metadata": {},
   "outputs": [],
   "source": [
    "a = 0x0680_0000\n",
    "for i in range(int(256*4*4/4)):\n",
    "    temp = SU.su_read_data(a + 4*i)\n",
    "    print(i, \"\\t\", temp)"
   ]
  },
  {
   "cell_type": "code",
   "execution_count": null,
   "metadata": {},
   "outputs": [],
   "source": [
    "###################################################################\n",
    "#        Max Pool 4\n",
    "###################################################################\n",
    "# Max Pooling\n",
    "# - in:      (n. 256. 4. 4)\n",
    "# - out:     (n, 256, 2, 2)\n",
    "###################################################################\n",
    "I = {'IN_CH': 256, 'FLEN': 4}\n",
    "F = {'BASE_ADDR': 0x0680_0000, 'STRIDE_SIZE': 256*4*4, 'HSIZE': 256*4*4, 'VSIZE': 1}\n",
    "R = {'BASE_ADDR': 0x0690_0000, 'STRIDE_SIZE': 256*2*2, 'HSIZE': 256*2*2, 'VSIZE': 1}\n",
    "SU.su_pool_control(I, F, R, VDMA2_BASE_ADDR, POOL_BASE_ADDR)"
   ]
  },
  {
   "cell_type": "code",
   "execution_count": null,
   "metadata": {},
   "outputs": [],
   "source": [
    "a = 0x0690_0000\n",
    "for i in range(int(256*2*2/4)):\n",
    "    temp = SU.su_read_data(a + 4*i)\n",
    "    print(i, \"\\t\", temp)"
   ]
  },
  {
   "cell_type": "code",
   "execution_count": null,
   "metadata": {},
   "outputs": [],
   "source": [
    "###################################################################\n",
    "#        Fully-Connected 1 + ReLU\n",
    "###################################################################\n",
    "# Fully-Connected\n",
    "# - in:             (1024,)\n",
    "# - out:             (256,)\n",
    "# - weight:     (256, 1024)\n",
    "# - bias:            (256,)\n",
    "# ReLU\n",
    "# - in:              (256,)\n",
    "# - out:             (256,)\n",
    "###################################################################\n",
    "F = {'BASE_ADDR': 0x0690_0000, 'STRIDE_SIZE': 1024, 'HSIZE': 1024, 'VSIZE': 1}\n",
    "W = {'BASE_ADDR': 0x0500_0000, 'STRIDE_SIZE': int(1024*256/8), 'HSIZE': int(1024*256/8), 'VSIZE': 8}\n",
    "B = {'BASE_ADDR': 0x0530_0000, 'STRIDE_SIZE': 256, 'HSIZE': 256, 'VSIZE': 1}\n",
    "R = {'BASE_ADDR': 0x06A0_0000, 'STRIDE_SIZE': 256, 'HSIZE': 256, 'VSIZE': 1}\n",
    "SU.su_fc_control(F, W, B, R, VDMA0_BASE_ADDR, FC_BASE_ADDR)"
   ]
  },
  {
   "cell_type": "code",
   "execution_count": null,
   "metadata": {},
   "outputs": [],
   "source": [
    "a = 0x06A0_0000\n",
    "for i in range(int(256/4)):\n",
    "    temp = SU.su_read_data(a + 4*i)\n",
    "    print(i, \"\\t\", temp)"
   ]
  },
  {
   "cell_type": "code",
   "execution_count": null,
   "metadata": {},
   "outputs": [],
   "source": [
    "###################################################################\n",
    "#        Fully-Connected 2 + ReLU\n",
    "###################################################################\n",
    "# Fully-Connected\n",
    "# - in:             (256,)\n",
    "# - out:             (64,)\n",
    "# - weight:      (64, 256)\n",
    "# - bias:            (64,)\n",
    "# ReLU\n",
    "# - in:              (64,)\n",
    "# - out:             (64,)\n",
    "###################################################################\n",
    "F = {'BASE_ADDR': 0x06A0_0000, 'STRIDE_SIZE': 256, 'HSIZE': 256, 'VSIZE': 1}\n",
    "W = {'BASE_ADDR': 0x0540_0000, 'STRIDE_SIZE': 256*64, 'HSIZE': 256*64, 'VSIZE': 1}\n",
    "B = {'BASE_ADDR': 0x0550_0000, 'STRIDE_SIZE': 64, 'HSIZE': 64, 'VSIZE': 1}\n",
    "R = {'BASE_ADDR': 0x06B0_0000, 'STRIDE_SIZE': 64, 'HSIZE': 64, 'VSIZE': 1}\n",
    "SU.su_fc_control(F, W, B, R, VDMA0_BASE_ADDR, FC_BASE_ADDR)"
   ]
  },
  {
   "cell_type": "code",
   "execution_count": null,
   "metadata": {},
   "outputs": [],
   "source": [
    "a = 0x06B0_0000\n",
    "for i in range(int(64/4)):\n",
    "    temp = SU.su_read_data(a + 4*i)\n",
    "    print(i, \"\\t\", temp)"
   ]
  },
  {
   "cell_type": "code",
   "execution_count": null,
   "metadata": {},
   "outputs": [],
   "source": [
    "###################################################################\n",
    "#        Fully-Connected 3 + ReLU\n",
    "###################################################################\n",
    "# Fully-Connected\n",
    "# - in:               (64,)\n",
    "# - out:              (10,)\n",
    "# - weight:        (10, 64)\n",
    "# - bias:             (10,)\n",
    "# ReLU\n",
    "# - in:               (10,)\n",
    "# - out:              (10,)\n",
    "###################################################################\n",
    "F = {'BASE_ADDR': 0x06B0_0000, 'STRIDE_SIZE': 64, 'HSIZE': 64, 'VSIZE': 1}\n",
    "W = {'BASE_ADDR': 0x0560_0000, 'STRIDE_SIZE': 640, 'HSIZE': 640, 'VSIZE': 1}\n",
    "B = {'BASE_ADDR': 0x0570_0000, 'STRIDE_SIZE': 10, 'HSIZE': 10, 'VSIZE': 1}\n",
    "R = {'BASE_ADDR': 0x06C0_0000, 'STRIDE_SIZE': 10, 'HSIZE': 10, 'VSIZE': 1}\n",
    "SU.su_fc_control(F, W, B, R, VDMA0_BASE_ADDR, FC_BASE_ADDR)"
   ]
  },
  {
   "cell_type": "code",
   "execution_count": null,
   "metadata": {},
   "outputs": [],
   "source": [
    "a = 0x06C0_0000\n",
    "for i in range(int(3)):\n",
    "    temp = SU.su_read_data(a + 4*i)\n",
    "    print(i, \"\\t\", temp)"
   ]
  },
  {
   "cell_type": "code",
   "execution_count": null,
   "metadata": {},
   "outputs": [],
   "source": [
    "##############################################################################################\n",
    "# Below code can be revised according to your apb register setting\n",
    "##############################################################################################\n",
    "# Read label index from apb register (our design output the index to that address)\n",
    "\n",
    "# We assign FC_BASE_ADDR + 0x20 apb register to return max-value index\n",
    "label = SU.su_read_data(FC_BASE_ADDR + 0x20)\n",
    "label = int.from_bytes(label, 'big', signed=True)\n",
    "# Predicted (computated) label\n",
    "print(label-1)"
   ]
  },
  {
   "cell_type": "code",
   "execution_count": null,
   "metadata": {},
   "outputs": [],
   "source": [
    "# Real value\n",
    "print(y_test[0])"
   ]
  },
  {
   "cell_type": "markdown",
   "metadata": {},
   "source": [
    "### All Inference function"
   ]
  },
  {
   "cell_type": "code",
   "execution_count": null,
   "metadata": {},
   "outputs": [],
   "source": [
    "def inference(image_idx):\n",
    "    I = {'IN_CH': 3, 'OUT_CH': 32, 'FLEN': 32}\n",
    "    F = {'BASE_ADDR': 0x0000_0000 + 3072*image_idx, 'STRIDE_SIZE': 3*32*32, 'HSIZE': 3*32*32, 'VSIZE': 1}\n",
    "    W = {'BASE_ADDR': 0x0200_0000, 'STRIDE_SIZE': 3*32*9, 'HSIZE': 3*32*9, 'VSIZE': 1}\n",
    "    B = {'BASE_ADDR': 0x0210_0000, 'STRIDE_SIZE': 32, 'HSIZE': 32, 'VSIZE': 1}\n",
    "    R = {'BASE_ADDR': 0x0600_0000, 'STRIDE_SIZE': 32*32*32, 'HSIZE': 32*32*32, 'VSIZE': 1}\n",
    "    SU.su_conv_control(I, F, W, B, R, VDMA1_BASE_ADDR, CONV_BASE_ADDR)\n",
    "    I = {'IN_CH': 32, 'FLEN': 32}\n",
    "    F = {'BASE_ADDR': 0x0600_0000, 'STRIDE_SIZE': 32*32*32, 'HSIZE': 32*32*32, 'VSIZE': 1}\n",
    "    R = {'BASE_ADDR': 0x0610_0000, 'STRIDE_SIZE': 32*16*16, 'HSIZE': 32*16*16, 'VSIZE': 1}\n",
    "    SU.su_pool_control(I, F, R, VDMA2_BASE_ADDR, POOL_BASE_ADDR)\n",
    "    I = {'IN_CH': 32, 'OUT_CH': 64, 'FLEN': 16}\n",
    "    F = {'BASE_ADDR': 0x0610_0000, 'STRIDE_SIZE': 32*16*16, 'HSIZE': 32*16*16, 'VSIZE': 1}\n",
    "    W = {'BASE_ADDR': 0x0220_0000, 'STRIDE_SIZE': 32*64*9, 'HSIZE': 32*64*9, 'VSIZE': 1}\n",
    "    B = {'BASE_ADDR': 0x0270_0000, 'STRIDE_SIZE': 64, 'HSIZE': 64, 'VSIZE': 1}\n",
    "    R = {'BASE_ADDR': 0x0620_0000, 'STRIDE_SIZE': 64*16*16, 'HSIZE': 64*16*16, 'VSIZE': 1}\n",
    "    SU.su_conv_control(I, F, W, B, R, VDMA1_BASE_ADDR, CONV_BASE_ADDR)\n",
    "    I = {'IN_CH': 64, 'FLEN': 16}\n",
    "    F = {'BASE_ADDR': 0x0620_0000, 'STRIDE_SIZE': 64*16*16, 'HSIZE': 64*16*16, 'VSIZE': 1}\n",
    "    R = {'BASE_ADDR': 0x0630_0000, 'STRIDE_SIZE': 64*8*8, 'HSIZE': 64*8*8, 'VSIZE': 1}\n",
    "    SU.su_pool_control(I, F, R, VDMA2_BASE_ADDR, POOL_BASE_ADDR)\n",
    "    I = {'IN_CH': 64, 'OUT_CH': 128, 'FLEN': 8}\n",
    "    F = {'BASE_ADDR': 0x0630_0000, 'STRIDE_SIZE': 64*8*8, 'HSIZE': 64*8*8, 'VSIZE': 1}\n",
    "    W = {'BASE_ADDR': 0x0280_0000, 'STRIDE_SIZE': int(64*128*9/2), 'HSIZE': int(64*128*9/2), 'VSIZE': 2}\n",
    "    B = {'BASE_ADDR': 0x02C0_0000, 'STRIDE_SIZE': 128, 'HSIZE': 128, 'VSIZE': 1}\n",
    "    R = {'BASE_ADDR': 0x0640_0000, 'STRIDE_SIZE': 128*8*8, 'HSIZE': 128*8*8, 'VSIZE': 1}\n",
    "    SU.su_conv_control(I, F, W, B, R, VDMA1_BASE_ADDR, CONV_BASE_ADDR)\n",
    "    I = {'IN_CH': 128, 'OUT_CH': 128, 'FLEN': 8}\n",
    "    F = {'BASE_ADDR': 0x0640_0000, 'STRIDE_SIZE': 128*8*8, 'HSIZE': 128*8*8, 'VSIZE': 1}\n",
    "    W = {'BASE_ADDR': 0x0300_0000, 'STRIDE_SIZE': int(128*128*9/4), 'HSIZE': int(128*128*9/4), 'VSIZE': 4}\n",
    "    B = {'BASE_ADDR': 0x0390_0000, 'STRIDE_SIZE': 128, 'HSIZE': 128, 'VSIZE': 1}\n",
    "    R = {'BASE_ADDR': 0x0650_0000, 'STRIDE_SIZE': 128*8*8, 'HSIZE': 128*8*8, 'VSIZE': 1}\n",
    "    SU.su_conv_control(I, F, W, B, R, VDMA1_BASE_ADDR, CONV_BASE_ADDR)\n",
    "    I = {'IN_CH': 128, 'FLEN': 8}\n",
    "    F = {'BASE_ADDR': 0x0650_0000, 'STRIDE_SIZE': 128*8*8, 'HSIZE': 128*8*8, 'VSIZE': 1}\n",
    "    R = {'BASE_ADDR': 0x0660_0000, 'STRIDE_SIZE': 128*4*4, 'HSIZE': 128*4*4, 'VSIZE': 1}\n",
    "    SU.su_pool_control(I, F, R, VDMA2_BASE_ADDR, POOL_BASE_ADDR)\n",
    "    I = {'IN_CH': 128, 'OUT_CH': 256, 'FLEN': 4}\n",
    "    F = {'BASE_ADDR': 0x0660_0000, 'STRIDE_SIZE': 128*4*4, 'HSIZE': 128*4*4, 'VSIZE': 1}\n",
    "    W = {'BASE_ADDR': 0x03A0_0000, 'STRIDE_SIZE': int(128*256*9/8), 'HSIZE': int(128*256*9/8), 'VSIZE': 8}\n",
    "    B = {'BASE_ADDR': 0x03F0_0000, 'STRIDE_SIZE': 256, 'HSIZE': 256, 'VSIZE': 1}\n",
    "    R = {'BASE_ADDR': 0x0670_0000, 'STRIDE_SIZE': 256*4*4, 'HSIZE': 256*4*4, 'VSIZE': 1}\n",
    "    SU.su_conv_control(I, F, W, B, R, VDMA1_BASE_ADDR, CONV_BASE_ADDR)\n",
    "    I = {'IN_CH': 256, 'OUT_CH': 256, 'FLEN': 4}\n",
    "    F = {'BASE_ADDR': 0x0670_0000, 'STRIDE_SIZE': 256*4*4, 'HSIZE': 256*4*4, 'VSIZE': 1}\n",
    "    W = {'BASE_ADDR': 0x0400_0000, 'STRIDE_SIZE': int(256*256*9/16), 'HSIZE': int(256*256*9/16), 'VSIZE': 16}\n",
    "    B = {'BASE_ADDR': 0x0490_0000, 'STRIDE_SIZE': 256, 'HSIZE': 256, 'VSIZE': 1}\n",
    "    R = {'BASE_ADDR': 0x0680_0000, 'STRIDE_SIZE': 256*4*4, 'HSIZE': 256*4*4, 'VSIZE': 1}\n",
    "    SU.su_conv_control(I, F, W, B, R, VDMA1_BASE_ADDR, CONV_BASE_ADDR)\n",
    "    I = {'IN_CH': 256, 'FLEN': 4}\n",
    "    F = {'BASE_ADDR': 0x0680_0000, 'STRIDE_SIZE': 256*4*4, 'HSIZE': 256*4*4, 'VSIZE': 1}\n",
    "    R = {'BASE_ADDR': 0x0690_0000, 'STRIDE_SIZE': 256*2*2, 'HSIZE': 256*2*2, 'VSIZE': 1}\n",
    "    SU.su_pool_control(I, F, R, VDMA2_BASE_ADDR, POOL_BASE_ADDR)\n",
    "    F = {'BASE_ADDR': 0x0690_0000, 'STRIDE_SIZE': 1024, 'HSIZE': 1024, 'VSIZE': 1}\n",
    "    W = {'BASE_ADDR': 0x0500_0000, 'STRIDE_SIZE': int(1024*256/8), 'HSIZE': int(1024*256/8), 'VSIZE': 8}\n",
    "    B = {'BASE_ADDR': 0x0530_0000, 'STRIDE_SIZE': 256, 'HSIZE': 256, 'VSIZE': 1}\n",
    "    R = {'BASE_ADDR': 0x06A0_0000, 'STRIDE_SIZE': 256, 'HSIZE': 256, 'VSIZE': 1}\n",
    "    SU.su_fc_control(F, W, B, R, VDMA0_BASE_ADDR, FC_BASE_ADDR)\n",
    "    F = {'BASE_ADDR': 0x06A0_0000, 'STRIDE_SIZE': 256, 'HSIZE': 256, 'VSIZE': 1}\n",
    "    W = {'BASE_ADDR': 0x0540_0000, 'STRIDE_SIZE': 256*64, 'HSIZE': 256*64, 'VSIZE': 1}\n",
    "    B = {'BASE_ADDR': 0x0550_0000, 'STRIDE_SIZE': 64, 'HSIZE': 64, 'VSIZE': 1}\n",
    "    R = {'BASE_ADDR': 0x06B0_0000, 'STRIDE_SIZE': 64, 'HSIZE': 64, 'VSIZE': 1}\n",
    "    SU.su_fc_control(F, W, B, R, VDMA0_BASE_ADDR, FC_BASE_ADDR)\n",
    "    F = {'BASE_ADDR': 0x06B0_0000, 'STRIDE_SIZE': 64, 'HSIZE': 64, 'VSIZE': 1}\n",
    "    W = {'BASE_ADDR': 0x0560_0000, 'STRIDE_SIZE': 640, 'HSIZE': 640, 'VSIZE': 1}\n",
    "    B = {'BASE_ADDR': 0x0570_0000, 'STRIDE_SIZE': 10, 'HSIZE': 10, 'VSIZE': 1}\n",
    "    R = {'BASE_ADDR': 0x06C0_0000, 'STRIDE_SIZE': 10, 'HSIZE': 10, 'VSIZE': 1}\n",
    "    SU.su_fc_control(F, W, B, R, VDMA0_BASE_ADDR, FC_BASE_ADDR)\n",
    "    ##############################################################################################\n",
    "    # Below code can be revised according to your apb register setting\n",
    "    ##############################################################################################\n",
    "    label = SU.su_read_data(FC_BASE_ADDR + 0x20)\n",
    "    label = int.from_bytes(label, 'big', signed=True)\n",
    "    # print(label-1)\n",
    "    return (label-1)"
   ]
  },
  {
   "cell_type": "markdown",
   "metadata": {},
   "source": [
    "### Check accuracy"
   ]
  },
  {
   "cell_type": "code",
   "execution_count": null,
   "metadata": {},
   "outputs": [],
   "source": [
    "acc = 0\n",
    "for i in range(100):\n",
    "    pred = inference(i)\n",
    "    if pred == y_test[i]:\n",
    "        acc += 1\n",
    "    print(\"Progress: {:05.2f}%\".format(100*i/100), end=\"\\r\", flush=True)\n",
    "    # show sample image and predict result\n",
    "    if i % 10 == 0:\n",
    "        gen_image(X_test_origin[i]).show()\n",
    "        print(\"Label: %d (%s)\" %(y_test[i], label_list[y_test[i]]))\n",
    "        print(\"Predict: %d (%s)\" %(pred, label_list[pred]))\n",
    "print(\"\\t100 images accuracy: {:.2f}%\".format(acc/100 * 100))"
   ]
  },
  {
   "cell_type": "code",
   "execution_count": null,
   "metadata": {},
   "outputs": [],
   "source": []
  }
 ],
 "metadata": {
  "kernelspec": {
   "display_name": "Python 3",
   "language": "python",
   "name": "python3"
  },
  "language_info": {
   "codemirror_mode": {
    "name": "ipython",
    "version": 3
   },
   "file_extension": ".py",
   "mimetype": "text/x-python",
   "name": "python",
   "nbconvert_exporter": "python",
   "pygments_lexer": "ipython3",
   "version": "3.7.5"
  }
 },
 "nbformat": 4,
 "nbformat_minor": 2
}
